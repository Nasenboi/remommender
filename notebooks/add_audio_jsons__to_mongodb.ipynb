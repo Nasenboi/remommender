{
 "cells": [
  {
   "cell_type": "markdown",
   "id": "1177725a",
   "metadata": {},
   "source": [
    "# Waddup?!"
   ]
  },
  {
   "cell_type": "code",
   "execution_count": null,
   "id": "0fa38ed7",
   "metadata": {},
   "outputs": [],
   "source": [
    "import os\n",
    "import json\n",
    "from pymongo import MongoClient"
   ]
  },
  {
   "cell_type": "code",
   "execution_count": null,
   "id": "310cea23",
   "metadata": {},
   "outputs": [],
   "source": [
    "json_path = \"/run/media/chr1s/chr1sdrive1/MuInf//Audio_jsons/\"\n",
    "\n",
    "jsons = os.listdir(json_path)\n",
    "jsons[:3]"
   ]
  },
  {
   "cell_type": "code",
   "execution_count": null,
   "id": "428e214d",
   "metadata": {},
   "outputs": [],
   "source": [
    "MONGO_URL = \"mongodb://localhost:27017\"\n",
    "MONGO_DB = \"musemantiq\"\n",
    "MONGO_COLLECTION = \"files\""
   ]
  },
  {
   "cell_type": "code",
   "execution_count": null,
   "id": "94035bb3",
   "metadata": {},
   "outputs": [],
   "source": [
    "client = MongoClient(MONGO_URL)\n",
    "db = client[MONGO_DB]\n",
    "collection = db[MONGO_COLLECTION]\n",
    "\n",
    "collection.create_index([(\"title\", \"text\")])"
   ]
  },
  {
   "cell_type": "code",
   "execution_count": null,
   "id": "b4a9a2ef",
   "metadata": {},
   "outputs": [],
   "source": [
    "def read_json(name: str) -> dict:\n",
    "    path = os.path.join(json_path, name)\n",
    "    with open(path, 'r', encoding='utf-8') as file:\n",
    "        data = json.load(file)\n",
    "    return data"
   ]
  },
  {
   "cell_type": "code",
   "execution_count": null,
   "id": "26cecaa8",
   "metadata": {},
   "outputs": [],
   "source": [
    "read_json(jsons[0])"
   ]
  },
  {
   "cell_type": "code",
   "execution_count": null,
   "id": "fdc82c80",
   "metadata": {},
   "outputs": [],
   "source": [
    "for j in jsons:\n",
    "    try:\n",
    "        item = read_json(j)\n",
    "        collection.insert_one(item)\n",
    "    except Exception as e:\n",
    "        print(e)"
   ]
  },
  {
   "cell_type": "code",
   "execution_count": null,
   "id": "d2487d93",
   "metadata": {},
   "outputs": [],
   "source": [
    "collection.list_indexes"
   ]
  },
  {
   "cell_type": "code",
   "execution_count": null,
   "id": "aa93b6bc",
   "metadata": {},
   "outputs": [],
   "source": [
    "random_doc = collection.aggregate([{\"$sample\": {\"size\": 1}}])\n",
    "sample = next(random_doc, None)\n",
    "\n",
    "print(sample)\n"
   ]
  },
  {
   "cell_type": "code",
   "execution_count": null,
   "id": "5f11024f",
   "metadata": {},
   "outputs": [],
   "source": []
  }
 ],
 "metadata": {
  "kernelspec": {
   "display_name": "remommender",
   "language": "python",
   "name": "remommender"
  },
  "language_info": {
   "codemirror_mode": {
    "name": "ipython",
    "version": 3
   },
   "file_extension": ".py",
   "mimetype": "text/x-python",
   "name": "python",
   "nbconvert_exporter": "python",
   "pygments_lexer": "ipython3",
   "version": "3.13.2"
  }
 },
 "nbformat": 4,
 "nbformat_minor": 5
}
