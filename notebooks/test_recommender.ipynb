{
 "cells": [
  {
   "cell_type": "markdown",
   "id": "7fb0bbdb",
   "metadata": {},
   "source": [
    "# This is a test for the recommender class"
   ]
  },
  {
   "cell_type": "code",
   "execution_count": null,
   "id": "4cf71dfe",
   "metadata": {},
   "outputs": [],
   "source": [
    "import os\n",
    "import sys\n",
    "module_path = os.path.abspath(os.path.join('..'))\n",
    "if module_path not in sys.path:\n",
    "    sys.path.append(module_path)\n",
    "\n",
    "from apps.recommendations.hsd_recommender.hsd_recommender import HSDRecommender"
   ]
  },
  {
   "cell_type": "code",
   "execution_count": null,
   "id": "0bbd52c4",
   "metadata": {},
   "outputs": [],
   "source": []
  }
 ],
 "metadata": {
  "kernelspec": {
   "display_name": "remommender",
   "language": "python",
   "name": "python3"
  },
  "language_info": {
   "codemirror_mode": {
    "name": "ipython",
    "version": 3
   },
   "file_extension": ".py",
   "mimetype": "text/x-python",
   "name": "python",
   "nbconvert_exporter": "python",
   "pygments_lexer": "ipython3",
   "version": "3.13.2"
  }
 },
 "nbformat": 4,
 "nbformat_minor": 5
}
