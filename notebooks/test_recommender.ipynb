{
 "cells": [
  {
   "cell_type": "markdown",
   "id": "7fb0bbdb",
   "metadata": {},
   "source": [
    "# This is a test for the recommender class"
   ]
  },
  {
   "cell_type": "code",
   "execution_count": 13,
   "id": "4cf71dfe",
   "metadata": {},
   "outputs": [
    {
     "ename": "TypeError",
     "evalue": "Too many arguments for typing.List; actual 2, expected 1",
     "output_type": "error",
     "traceback": [
      "\u001b[31m---------------------------------------------------------------------------\u001b[39m",
      "\u001b[31mTypeError\u001b[39m                                 Traceback (most recent call last)",
      "\u001b[36mCell\u001b[39m\u001b[36m \u001b[39m\u001b[32mIn[13]\u001b[39m\u001b[32m, line 7\u001b[39m\n\u001b[32m      4\u001b[39m \u001b[38;5;28;01mif\u001b[39;00m module_path \u001b[38;5;129;01mnot\u001b[39;00m \u001b[38;5;129;01min\u001b[39;00m sys.path:\n\u001b[32m      5\u001b[39m     sys.path.append(module_path)\n\u001b[32m----> \u001b[39m\u001b[32m7\u001b[39m \u001b[38;5;28;01mfrom\u001b[39;00m\u001b[38;5;250m \u001b[39m\u001b[34;01mapps\u001b[39;00m\u001b[34;01m.\u001b[39;00m\u001b[34;01mrecommendations\u001b[39;00m\u001b[34;01m.\u001b[39;00m\u001b[34;01mhsd_recommender\u001b[39;00m\u001b[34;01m.\u001b[39;00m\u001b[34;01mhsd_recommender\u001b[39;00m\u001b[38;5;250m \u001b[39m\u001b[38;5;28;01mimport\u001b[39;00m HSDRecommender\n",
      "\u001b[36mFile \u001b[39m\u001b[32m~/Dokumente/Programmierungen/GitStuff/remommender/apps/recommendations/hsd_recommender/hsd_recommender.py:10\u001b[39m\n\u001b[32m      3\u001b[39m \u001b[38;5;28;01mfrom\u001b[39;00m\u001b[38;5;250m \u001b[39m\u001b[34;01m.\u001b[39;00m\u001b[34;01mmodels\u001b[39;00m\u001b[38;5;250m \u001b[39m\u001b[38;5;28;01mimport\u001b[39;00m (\n\u001b[32m      4\u001b[39m     Playlist,\n\u001b[32m      5\u001b[39m     AllFeatures,\n\u001b[32m      6\u001b[39m     EmotionFeatures,\n\u001b[32m      7\u001b[39m     EssentiaFeatures,\n\u001b[32m      8\u001b[39m )\n\u001b[32m      9\u001b[39m \u001b[38;5;28;01mfrom\u001b[39;00m\u001b[38;5;250m \u001b[39m\u001b[34;01m.\u001b[39;00m\u001b[34;01mconsts\u001b[39;00m\u001b[38;5;250m \u001b[39m\u001b[38;5;28;01mimport\u001b[39;00m MONGO_URL, MONGO_DB, MONGO_COLLECTION\n\u001b[32m---> \u001b[39m\u001b[32m10\u001b[39m \u001b[38;5;28;01mfrom\u001b[39;00m\u001b[38;5;250m \u001b[39m\u001b[34;01m.\u001b[39;00m\u001b[34;01mmethods\u001b[39;00m\u001b[38;5;250m \u001b[39m\u001b[38;5;28;01mimport\u001b[39;00m generate_random_playlist, generate_playlist, generate_songs\n\u001b[32m     13\u001b[39m \u001b[38;5;28;01mclass\u001b[39;00m\u001b[38;5;250m \u001b[39m\u001b[34;01mHSDRecommender\u001b[39;00m:\n\u001b[32m     14\u001b[39m \u001b[38;5;250m    \u001b[39m\u001b[33;03m\"\"\"\u001b[39;00m\n\u001b[32m     15\u001b[39m \u001b[33;03m    The HSD Recommender class\u001b[39;00m\n\u001b[32m     16\u001b[39m \u001b[33;03m    This class wrapps all the logic of the original HSD recommender api backend\u001b[39;00m\n\u001b[32m     17\u001b[39m \u001b[33;03m    into a single class.\u001b[39;00m\n\u001b[32m     18\u001b[39m \u001b[33;03m    \"\"\"\u001b[39;00m\n",
      "\u001b[36mFile \u001b[39m\u001b[32m~/Dokumente/Programmierungen/GitStuff/remommender/apps/recommendations/hsd_recommender/methods.py:51\u001b[39m\n\u001b[32m     45\u001b[39m         song_ID.append(document[\u001b[33m\"\u001b[39m\u001b[33m_id\u001b[39m\u001b[33m\"\u001b[39m])\n\u001b[32m     46\u001b[39m     \u001b[38;5;28;01mreturn\u001b[39;00m song_ID\n\u001b[32m     49\u001b[39m \u001b[38;5;28;01mdef\u001b[39;00m\u001b[38;5;250m \u001b[39m\u001b[34mget_song_id_and_dimensions\u001b[39m(\n\u001b[32m     50\u001b[39m     collection: Collection, playlistType: PLAYLIST_TYPES, genre: GENRE_DATA_BASE\n\u001b[32m---> \u001b[39m\u001b[32m51\u001b[39m ) -> List[List[\u001b[38;5;28mstr\u001b[39m], List[List[\u001b[38;5;28mfloat\u001b[39m]]]:\n\u001b[32m     52\u001b[39m \u001b[38;5;250m    \u001b[39m\u001b[33;03m\"\"\"\u001b[39;00m\n\u001b[32m     53\u001b[39m \u001b[33;03m    Get song IDs and their corresponding dimensions from the MongoDB collection.\u001b[39;00m\n\u001b[32m     54\u001b[39m \u001b[33;03m    :param collection: MongoDB collection object.\u001b[39;00m\n\u001b[32m   (...)\u001b[39m\u001b[32m     57\u001b[39m \u001b[33;03m    :return: List containing song IDs and their dimensions.\u001b[39;00m\n\u001b[32m     58\u001b[39m \u001b[33;03m    \"\"\"\u001b[39;00m\n\u001b[32m     60\u001b[39m     song_ID = []\n",
      "\u001b[36mFile \u001b[39m\u001b[32m~/.conda/envs/remommender/lib/python3.13/typing.py:432\u001b[39m, in \u001b[36m_tp_cache.<locals>.decorator.<locals>.inner\u001b[39m\u001b[34m(*args, **kwds)\u001b[39m\n\u001b[32m    430\u001b[39m \u001b[38;5;28;01mexcept\u001b[39;00m \u001b[38;5;167;01mTypeError\u001b[39;00m:\n\u001b[32m    431\u001b[39m     \u001b[38;5;28;01mpass\u001b[39;00m  \u001b[38;5;66;03m# All real errors (not unhashable args) are raised below.\u001b[39;00m\n\u001b[32m--> \u001b[39m\u001b[32m432\u001b[39m \u001b[38;5;28;01mreturn\u001b[39;00m func(*args, **kwds)\n",
      "\u001b[36mFile \u001b[39m\u001b[32m~/.conda/envs/remommender/lib/python3.13/typing.py:1654\u001b[39m, in \u001b[36m_SpecialGenericAlias.__getitem__\u001b[39m\u001b[34m(self, params)\u001b[39m\n\u001b[32m   1652\u001b[39m     \u001b[38;5;28;01mif\u001b[39;00m \u001b[38;5;129;01mnot\u001b[39;00m \u001b[38;5;28mself\u001b[39m._nparams:\n\u001b[32m   1653\u001b[39m         \u001b[38;5;28;01mraise\u001b[39;00m \u001b[38;5;167;01mTypeError\u001b[39;00m(\u001b[33mf\u001b[39m\u001b[33m\"\u001b[39m\u001b[38;5;132;01m{\u001b[39;00m\u001b[38;5;28mself\u001b[39m\u001b[38;5;132;01m}\u001b[39;00m\u001b[33m is not a generic class\u001b[39m\u001b[33m\"\u001b[39m)\n\u001b[32m-> \u001b[39m\u001b[32m1654\u001b[39m     \u001b[38;5;28;01mraise\u001b[39;00m \u001b[38;5;167;01mTypeError\u001b[39;00m(\u001b[33mf\u001b[39m\u001b[33m\"\u001b[39m\u001b[33mToo \u001b[39m\u001b[38;5;132;01m{\u001b[39;00m\u001b[33m'\u001b[39m\u001b[33mmany\u001b[39m\u001b[33m'\u001b[39m\u001b[38;5;250m \u001b[39m\u001b[38;5;28;01mif\u001b[39;00m\u001b[38;5;250m \u001b[39mactual_len\u001b[38;5;250m \u001b[39m>\u001b[38;5;250m \u001b[39m\u001b[38;5;28mself\u001b[39m._nparams\u001b[38;5;250m \u001b[39m\u001b[38;5;28;01melse\u001b[39;00m\u001b[38;5;250m \u001b[39m\u001b[33m'\u001b[39m\u001b[33mfew\u001b[39m\u001b[33m'\u001b[39m\u001b[38;5;132;01m}\u001b[39;00m\u001b[33m arguments for \u001b[39m\u001b[38;5;132;01m{\u001b[39;00m\u001b[38;5;28mself\u001b[39m\u001b[38;5;132;01m}\u001b[39;00m\u001b[33m;\u001b[39m\u001b[33m\"\u001b[39m\n\u001b[32m   1655\u001b[39m                     \u001b[33mf\u001b[39m\u001b[33m\"\u001b[39m\u001b[33m actual \u001b[39m\u001b[38;5;132;01m{\u001b[39;00mactual_len\u001b[38;5;132;01m}\u001b[39;00m\u001b[33m, expected \u001b[39m\u001b[38;5;132;01m{\u001b[39;00mexpected\u001b[38;5;132;01m}\u001b[39;00m\u001b[33m\"\u001b[39m)\n\u001b[32m   1656\u001b[39m \u001b[38;5;28;01mreturn\u001b[39;00m \u001b[38;5;28mself\u001b[39m.copy_with(params)\n",
      "\u001b[31mTypeError\u001b[39m: Too many arguments for typing.List; actual 2, expected 1"
     ]
    }
   ],
   "source": [
    "import os\n",
    "import sys\n",
    "module_path = os.path.abspath(os.path.join('..'))\n",
    "if module_path not in sys.path:\n",
    "    sys.path.append(module_path)\n",
    "\n",
    "from apps.recommendations.hsd_recommender.hsd_recommender import HSDRecommender"
   ]
  },
  {
   "cell_type": "code",
   "execution_count": null,
   "id": "0bbd52c4",
   "metadata": {},
   "outputs": [],
   "source": []
  }
 ],
 "metadata": {
  "kernelspec": {
   "display_name": "remommender",
   "language": "python",
   "name": "python3"
  },
  "language_info": {
   "codemirror_mode": {
    "name": "ipython",
    "version": 3
   },
   "file_extension": ".py",
   "mimetype": "text/x-python",
   "name": "python",
   "nbconvert_exporter": "python",
   "pygments_lexer": "ipython3",
   "version": "3.13.2"
  }
 },
 "nbformat": 4,
 "nbformat_minor": 5
}
