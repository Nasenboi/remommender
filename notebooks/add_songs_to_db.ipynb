{
 "cells": [
  {
   "cell_type": "markdown",
   "id": "b7e281cd",
   "metadata": {},
   "source": [
    "# Add Songs to DB\n",
    "\n",
    "Use this notebook to initialize the django db with songs that were calculated before.\n",
    "\n",
    "The song schemas of the old hsd recommender are a bit different to the schema used in the current db, so some adaptation needs to happen."
   ]
  },
  {
   "cell_type": "code",
   "execution_count": null,
   "id": "c177a2c3",
   "metadata": {},
   "outputs": [],
   "source": [
    "# imports\n",
    "import os\n",
    "import requests\n",
    "import json"
   ]
  },
  {
   "cell_type": "code",
   "execution_count": null,
   "id": "4239449d",
   "metadata": {},
   "outputs": [],
   "source": [
    "# paths\n",
    "base_path = \"/run/media/chr1s/chr1sdrive1/MuInf/\"\n",
    "json_path = f\"{base_path}Audio_jsons\"\n",
    "audio_path = f\"{base_path}srv/Audio\"\n",
    "album_art_path = f\"{base_path}srv/Album_Art\""
   ]
  },
  {
   "cell_type": "code",
   "execution_count": null,
   "id": "ca6187b1",
   "metadata": {},
   "outputs": [],
   "source": [
    "# urls\n",
    "base_url = \"http://localhost:8000\"\n",
    "artwork_url = f\"{base_url}/song/artwork-file/\"\n",
    "song_file_url = f\"{base_url}/song/song-file/\"\n",
    "song_url = f\"{base_url}/song/\""
   ]
  },
  {
   "cell_type": "code",
   "execution_count": null,
   "id": "7bb9bd74",
   "metadata": {},
   "outputs": [],
   "source": [
    "def read_json(name: str) -> dict:\n",
    "    path = os.path.join(json_path, name)\n",
    "    with open(path, 'r', encoding='utf-8') as file:\n",
    "        data = json.load(file)\n",
    "    return data\n",
    "\n"
   ]
  },
  {
   "cell_type": "code",
   "execution_count": null,
   "id": "9048125f",
   "metadata": {},
   "outputs": [],
   "source": [
    "json_file_names = os.listdir(json_path)\n",
    "\n",
    "songs = []\n",
    "\n",
    "for file_name in json_file_names:\n",
    "    if file_name.endswith('.json'):\n",
    "        try:\n",
    "            songs.append(read_json(file_name))\n",
    "        except Exception as e:\n",
    "            print(f\"Error reading {file_name}: {e}\")\n",
    "            continue"
   ]
  },
  {
   "cell_type": "code",
   "execution_count": null,
   "id": "bb80204f",
   "metadata": {},
   "outputs": [],
   "source": [
    "def convert_song_to_db_format(song: dict):\n",
    "    db_song = {\n",
    "        \"title\": song['title'],\n",
    "        \"artist\": song['artist'],\n",
    "        \"duration_s\": song['duration_s'],\n",
    "        \"features\": {\n",
    "            'valence': song['features']['valence'],\n",
    "            'arousal': song['features']['arousal'],\n",
    "            'authenticity': song['features']['authenticity'],\n",
    "            'timeliness': song['features']['timeliness'],\n",
    "            'complexity': song['features']['complexity'],\n",
    "            'danceability': song['features']['danceability'],\n",
    "            'tonal': song['features']['tonal'],\n",
    "            'voice': song['features']['voice'],\n",
    "            'bpm': song['features']['bpm']\n",
    "        },\n",
    "        \"genres\": song['features']['genres'],\n",
    "    }\n",
    "    db_album = {\n",
    "        \"album\": song['album'],\n",
    "        \"artist\": song['artist'],\n",
    "    }\n",
    "    return db_song, db_album\n",
    "\n",
    "def get_artwork_path(song: dict) -> str:\n",
    "    return os.path.join(album_art_path, song['ids']['artwork_id'])\n",
    "\n",
    "def get_song_path(song: dict) -> str:\n",
    "    return os.path.join(audio_path, song['ids']['track_id'])"
   ]
  },
  {
   "cell_type": "code",
   "execution_count": null,
   "id": "75aedbd2",
   "metadata": {},
   "outputs": [],
   "source": [
    "def upload_song_to_db(song: dict):\n",
    "    db_song, db_album = convert_song_to_db_format(song)\n",
    "    artwork_path = get_artwork_path(song)\n",
    "    song_path = get_song_path(song)\n",
    "\n",
    "    #print(f\"Artwork path: {artwork_path}\")\n",
    "    #print(f\"Song path: {song_path}\")\n",
    "\n",
    "    #print(db_album)\n",
    "\n",
    "    # Upload album artwork\n",
    "    with open(artwork_path, 'rb') as artwork_file:\n",
    "        artwork_response = requests.post(\n",
    "            artwork_url,\n",
    "            files={'artwork': artwork_file},\n",
    "            data={'album': db_album['album'], 'artist': db_album['artist']}\n",
    "        )\n",
    "    \n",
    "    #print(f\"Artwork upload response: {artwork_response.status_code}, {artwork_response.text}\")\n",
    "\n",
    "    # upload song file\n",
    "    with open(song_path, 'rb') as song_file:\n",
    "        song_response = requests.post(\n",
    "            song_file_url,\n",
    "            files={'audio_file': song_file}\n",
    "        )\n",
    "\n",
    "    #print(f\"Song upload response: {song_response.status_code}, {song_response.text}\")\n",
    "\n",
    "    db_song[\"audio_file_id\"] = song_response.json().get(\"id\")\n",
    "    db_song[\"artwork_id\"] = artwork_response.json().get(\"id\")\n",
    "    \n",
    "    #print(db_song)\n",
    "    \n",
    "    # Upload song metadata\n",
    "    song_metadata_response = requests.post(\n",
    "        song_url,\n",
    "        json=db_song\n",
    "    )\n",
    "    \n",
    "    print(f\"Song metadata upload response: {song_metadata_response.status_code}, {song_metadata_response.text}\")"
   ]
  },
  {
   "cell_type": "code",
   "execution_count": null,
   "id": "f4201b3e",
   "metadata": {},
   "outputs": [],
   "source": [
    "for song in songs:\n",
    "    try:\n",
    "        upload_song_to_db(song)\n",
    "    except Exception as e:\n",
    "        print(f\"Error uploading song {song['title']}: {e}\")\n",
    "        continue"
   ]
  },
  {
   "cell_type": "code",
   "execution_count": null,
   "id": "719f43c0",
   "metadata": {},
   "outputs": [],
   "source": []
  }
 ],
 "metadata": {
  "kernelspec": {
   "display_name": "remommender",
   "language": "python",
   "name": "remommender"
  },
  "language_info": {
   "codemirror_mode": {
    "name": "ipython",
    "version": 3
   },
   "file_extension": ".py",
   "mimetype": "text/x-python",
   "name": "python",
   "nbconvert_exporter": "python",
   "pygments_lexer": "ipython3",
   "version": "3.13.2"
  }
 },
 "nbformat": 4,
 "nbformat_minor": 5
}
